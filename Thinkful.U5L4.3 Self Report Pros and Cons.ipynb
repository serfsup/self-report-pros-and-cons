{
 "cells": [
  {
   "cell_type": "markdown",
   "metadata": {},
   "source": [
    "# Self Report Pro's and Con's\n",
    "Self-report data is easy and cheap to acquire, but businesses prefer behavioral data. This is because there are literally thousands of research papers showing that what people say, think, plan to, or believe they will do is often a very weak indicator of what they actually end up doing!\n",
    "\n",
    "We’ve already reviewed some methods of improving our self-report data: Making sure questions are as unbiased as possible, randomizing question and item order, and allowing non-responses all help to get people’s true thoughts. But even when people are able to report their thoughts honestly, we may not get much value because people are notoriously bad at predicting what they are going to do in the future. The point is that whenever possible you should strive to get behavioral data, and that if behavioral and self-report data disagree, the behavioral data should receive greater weight.\n",
    "\n",
    "Another issue in self-report data is the cost to respondents. Asking customers to complete a survey uses up a small but perceptible amount of their goodwill toward the company; the longer the survey, the more expensive to the customer.\n",
    "\n",
    "Finally, be mindful of voluntary response bias. People are more likely to complete a customer satisfaction survey, for example, if they have very strong feelings about their experience. Those feelings might be positive (“The staff went out of their way to accommodate us, we felt so taken care of!”) or negative (“The cockroaches in the bed were bad, but the smell was worse!”). People in the middle (“It was fine.”) are less likely to spend the energy to register their opinion. Providing incentives to complete the survey (coupons, discounts, etc) can help combat this.\n",
    "\n",
    "In addition to being cheap and easy, surveys are a way of getting information on topics too private (sex, money, bathroom habits), rare (bad customer experiences), or complex (interpersonal relationships) to study behaviorally. In these contexts, surveys can be a useful tool, but their downsides are often downplayed or ignored. Use them mindfully.\n",
    "\n",
    "#DRILL: When to use surveys. State whether a survey would be the best option for answering each of the following questions.\n",
    "\n",
    "1. Popularity of various Uber drivers.\n",
    "    Survey - this would fall somewhere between the private and interpersonal relationship reasons for when it is appropriate to use a survey. It could be difficult to rate a driver if the customer thinks it could get back to the driver. If anonymous, it might make it easier for someone to be honest about a driver's performance.\n",
    "\n",
    "2. A grocery store wants to know how much people like strawberry, chocolate, and vanilla ice cream.\n",
    "    No survey - in this case, a taste-test would be more appropriate than a survey.\n",
    "\n",
    "3. Trojan wants to know whether their condoms are more popular among straight people or gay people.\n",
    "    Survey - this would be a perfect candidate for a survey because it involves something extremely private.\n",
    "    \n",
    "4. Recently, rental rates for HappyCars have increased by 30%, which is quite unusual.\n",
    "    Survey - this would be one of the \"rare\" examples (like a bad customer experience); only this experience appears to be a good one. Surveying people who rented during this period could help you understand what caused this increase.\n",
    "\n",
    "5. You want to find out why this is happening and how to keep the increase going.\n",
    "    Survey - carrying over from the last answer, again this is a rare example. If one can keep the increased rentals going, it could be hugely beneficial for the business.\n",
    "\n",
    "6. Assessing the success rate of a new advertising campaign.\n",
    "    No survey - something like a success rate of an advertising campaign should not need to be determined by a survey as much as by using records from the business (increased foot traffic, greater number of specific purchases, sales figures.\n",
    "\n",
    "7. Measuring the effect of nurse/patient ratio on patient recovery rates in hospital wards.\n",
    "    No survey - nurse/patient ratio and patient recovery rates are data that should be readily available without the use of a survey. Just using hospital records should be enough."
   ]
  },
  {
   "cell_type": "code",
   "execution_count": null,
   "metadata": {},
   "outputs": [],
   "source": []
  }
 ],
 "metadata": {
  "kernelspec": {
   "display_name": "Python 3",
   "language": "python",
   "name": "python3"
  },
  "language_info": {
   "codemirror_mode": {
    "name": "ipython",
    "version": 3
   },
   "file_extension": ".py",
   "mimetype": "text/x-python",
   "name": "python",
   "nbconvert_exporter": "python",
   "pygments_lexer": "ipython3",
   "version": "3.7.4"
  },
  "toc": {
   "base_numbering": 1,
   "nav_menu": {},
   "number_sections": true,
   "sideBar": true,
   "skip_h1_title": false,
   "title_cell": "Table of Contents",
   "title_sidebar": "Contents",
   "toc_cell": false,
   "toc_position": {},
   "toc_section_display": true,
   "toc_window_display": false
  },
  "varInspector": {
   "cols": {
    "lenName": 16,
    "lenType": 16,
    "lenVar": 40
   },
   "kernels_config": {
    "python": {
     "delete_cmd_postfix": "",
     "delete_cmd_prefix": "del ",
     "library": "var_list.py",
     "varRefreshCmd": "print(var_dic_list())"
    },
    "r": {
     "delete_cmd_postfix": ") ",
     "delete_cmd_prefix": "rm(",
     "library": "var_list.r",
     "varRefreshCmd": "cat(var_dic_list()) "
    }
   },
   "types_to_exclude": [
    "module",
    "function",
    "builtin_function_or_method",
    "instance",
    "_Feature"
   ],
   "window_display": false
  }
 },
 "nbformat": 4,
 "nbformat_minor": 2
}
